{
 "metadata": {
  "language_info": {
   "codemirror_mode": {
    "name": "ipython",
    "version": 3
   },
   "file_extension": ".py",
   "mimetype": "text/x-python",
   "name": "python",
   "nbconvert_exporter": "python",
   "pygments_lexer": "ipython3",
   "version": "3.7.3-final"
  },
  "orig_nbformat": 2,
  "kernelspec": {
   "name": "python3",
   "display_name": "Python 3.7.3 64-bit ('ML': conda)",
   "metadata": {
    "interpreter": {
     "hash": "678ffcff85608859f0c3fe5907fe6b9a7708dbf89bbc8ea770ba1c09755f6d57"
    }
   }
  }
 },
 "nbformat": 4,
 "nbformat_minor": 2,
 "cells": [
  {
   "cell_type": "code",
   "execution_count": null,
   "metadata": {},
   "outputs": [],
   "source": [
    "class LineMultiplication():\n",
    "\n",
    "    def __init__(self, num1, num2, default_in=0):\n",
    "        self.var1 = num1\n",
    "        self.var2 = num2\n",
    "        self._var3 = num1 + num2\n",
    "        self.__var4 = 10\n",
    "        self.default = default_in\n",
    "    \n",
    "    def __private_foo(self):\n",
    "        return self.__var4 + self._var3\n",
    "\n",
    "    def _hidden_foo(self):\n",
    "        return 'hidden'\n",
    "    \n",
    "    def forced_foo(self, num: int, txt: str) -> str:\n",
    "        return str(num) + txt\n",
    "\n",
    "    def multiply(self):\n",
    "        \"\"\"\n",
    "        Function purpose\n",
    "        A long text explanation how the function is supposed to work, what it returns etc\n",
    "        You can download vscode extension which helps generate some basic information\n",
    "        https://stackoverflow.com/questions/3898572/what-is-the-standard-python-docstring-format\n",
    "        return:\n",
    "        \"\"\"\n",
    "        return self.var1 * self.var2\n",
    "        \n",
    "\n",
    "    def __repr__(self):\n",
    "        return '({},{})'.format(self.var1, self.var2)\n",
    "\n",
    "        # return '('+str(self.var1) + ',' + str(self.var2) + ')'\n",
    "    \n",
    "    def __len__(self):\n",
    "        return abs(self.var1 - self.var2)"
   ]
  },
  {
   "cell_type": "code",
   "execution_count": null,
   "metadata": {},
   "outputs": [],
   "source": [
    "va = LineMultiplication()"
   ]
  }
 ]
}